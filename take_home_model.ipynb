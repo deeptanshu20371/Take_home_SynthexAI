{
  "nbformat": 4,
  "nbformat_minor": 0,
  "metadata": {
    "colab": {
      "provenance": []
    },
    "kernelspec": {
      "name": "python3",
      "display_name": "Python 3"
    },
    "language_info": {
      "name": "python"
    }
  },
  "cells": [
    {
      "cell_type": "markdown",
      "source": [
        "## 🧪 Synthex AI – Take-Home Assignment: Deploy a Predictive Model API\n",
        "\n",
        "### **Goal:**  \n",
        "Deploy a simple backend API that wraps around a pre-trained predictive model. This assignment is designed to test your ability to expose a model via a clean API and deploy it to a cloud environment.\n",
        "\n",
        "---\n",
        "\n",
        "### ✅ Requirements\n",
        "\n",
        "1. **Set Up a Predictive Model API**\n",
        "- We’ve provided you with a pre-trained dummy model (e.g., a pickled `LinearRegression` or `.pt` file) that takes in one numeric input and returns a numeric prediction.\n",
        "- Build a lightweight REST API (using **FastAPI** or **Flask**) that:\n",
        "  - Accepts a **GET or POST** request to `/predict`\n",
        "  - Accepts a single numeric input like `{\"x\": 5.3}`\n",
        "  - Returns a JSON response like `{\"prediction\": 12.7}`\n",
        "\n",
        "2. **Deploy the API**\n",
        "- Deploy the API to any free-tier cloud hosting provider:\n",
        "  - Options: **Render**, **Fly.io**, **Railway**, **Heroku**, **Vercel (with FastAPI adapter)**, etc.\n",
        "- The endpoint should be **publicly accessible** and return valid predictions.\n",
        "\n",
        "3. **Documentation**\n",
        "- Include a short `README.md` with:\n",
        "  - Setup instructions (how to install and run locally)\n",
        "  - Link to the deployed endpoint\n",
        "  - Any assumptions or improvements you'd make with more time\n",
        "\n",
        "---\n",
        "\n",
        "### 🧪 Example Input & Output:\n",
        "```\n",
        "POST /predict\n",
        "Body: { \"x\": 4.2 }\n",
        "\n",
        "Response: { \"prediction\": 9.8 }\n",
        "```\n",
        "\n",
        "---\n",
        "\n",
        "### 📦 Deliverables\n",
        "- A **GitHub repo** with:\n",
        "  - Your code\n",
        "  - The provided model loaded and used properly\n",
        "  - A README\n",
        "- A **live URL** to your deployed `/predict` endpoint\n",
        "\n",
        "---\n",
        "\n",
        "### ⏱ Time Estimate: 1–2 hours\n",
        "\n",
        "---\n",
        "\n",
        "### 💡 Evaluation Criteria:\n",
        "- Proper handling of model input/output\n",
        "- Clean API structure and code readability\n",
        "- Successful public deployment\n",
        "- Clear documentation"
      ],
      "metadata": {
        "id": "CHQv8nP_izdD"
      }
    },
    {
      "cell_type": "code",
      "source": [
        "# take_home_model.py\n",
        "import numpy as np\n",
        "from sklearn.linear_model import LinearRegression\n",
        "import pickle\n",
        "\n",
        "# Create synthetic data\n",
        "X = np.array([[i] for i in range(0, 10)])  # 0 to 9\n",
        "y = np.array([2 * i + 1 for i in range(0, 10)])  # y = 2x + 1\n",
        "\n",
        "# Train a simple model\n",
        "model = LinearRegression()\n",
        "model.fit(X, y)\n",
        "\n",
        "# Save model to file\n",
        "with open(\"simple_model.pkl\", \"wb\") as f:\n",
        "    pickle.dump(model, f)\n",
        "\n",
        "print(\"✅ Model trained and saved as simple_model.pkl\")"
      ],
      "metadata": {
        "colab": {
          "base_uri": "https://localhost:8080/"
        },
        "id": "SpqMY8a2F3Y-",
        "outputId": "89bcfce3-4e29-46f0-8f8e-a17a473a2312"
      },
      "execution_count": null,
      "outputs": [
        {
          "output_type": "stream",
          "name": "stdout",
          "text": [
            "✅ Model trained and saved as simple_model.pkl\n"
          ]
        }
      ]
    }
  ]
}